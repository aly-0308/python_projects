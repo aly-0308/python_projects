{
 "cells": [
  {
   "cell_type": "markdown",
   "id": "9ead1c87",
   "metadata": {},
   "source": [
    "# Card Game\n",
    "\n",
    "This is a Python script for a simple card game where two players compete in rounds.\n",
    "\n",
    "## Features\n",
    "\n",
    "- **Card Class:** Represents a playing card with attributes such as suit, rank, and value.\n",
    "\n",
    "- **Deck Class:** Creates a deck of cards and provides functions for shuffling and dealing cards.\n",
    "\n",
    "- **Player Class:** Represents a player with functions to add, remove, and display cards.\n",
    "\n",
    "- **Game Loop:** Initiates a game loop where players compete in rounds until one player runs out of cards.\n",
    "\n",
    "## Game Rules\n",
    "\n",
    "- Each player starts with a standard deck of 52 cards.\n",
    "- Players compete in rounds, drawing one card each.\n",
    "- The player with the higher card value wins the round.\n",
    "- In case of a tie, a \"WAR\" is declared.\n",
    "- The game continues until one player runs out of cards.\n"
   ]
  }
 ],
 "metadata": {
  "kernelspec": {
   "display_name": "Python 3 (ipykernel)",
   "language": "python",
   "name": "python3"
  },
  "language_info": {
   "codemirror_mode": {
    "name": "ipython",
    "version": 3
   },
   "file_extension": ".py",
   "mimetype": "text/x-python",
   "name": "python",
   "nbconvert_exporter": "python",
   "pygments_lexer": "ipython3",
   "version": "3.9.12"
  }
 },
 "nbformat": 4,
 "nbformat_minor": 5
}
