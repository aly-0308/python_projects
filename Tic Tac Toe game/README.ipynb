{
 "cells": [
  {
   "cell_type": "markdown",
   "id": "3a93ce7b",
   "metadata": {},
   "source": [
    "# Tic Tac Toe Game\n",
    "\n",
    "This is a simple implementation of the Tic Tac Toe game in Python.\n",
    "\n",
    "## Features\n",
    "\n",
    "- Two-player Tic Tac Toe game.\n",
    "- Random player selection for the first move.\n",
    "- Basic error checking for valid moves.\n",
    "- Option to replay the game.\n",
    "\n",
    "## Game Rules\n",
    "\n",
    "- The game is played on a 3x3 grid.\n",
    "- Players take turns marking a space with their marker (X or O).\n",
    "- The player who succeeds in placing three of their marks in a horizontal, vertical, or diagonal row wins.\n",
    "- If the board is full and no player has won, the game ends in a draw.\n"
   ]
  }
 ],
 "metadata": {
  "kernelspec": {
   "display_name": "Python 3 (ipykernel)",
   "language": "python",
   "name": "python3"
  },
  "language_info": {
   "codemirror_mode": {
    "name": "ipython",
    "version": 3
   },
   "file_extension": ".py",
   "mimetype": "text/x-python",
   "name": "python",
   "nbconvert_exporter": "python",
   "pygments_lexer": "ipython3",
   "version": "3.9.12"
  }
 },
 "nbformat": 4,
 "nbformat_minor": 5
}
